{
 "cells": [
  {
   "cell_type": "code",
   "execution_count": 1,
   "id": "bad63444-54a9-4e7b-8ba2-2c182b83dd0c",
   "metadata": {},
   "outputs": [],
   "source": [
    "import pandas as pd"
   ]
  },
  {
   "cell_type": "code",
   "execution_count": 2,
   "id": "14aef4e7-3d05-4eb3-8a2a-e2cac17e0fca",
   "metadata": {},
   "outputs": [],
   "source": [
    "movies = pd.read_csv('movies.csv')\n",
    "ratings = pd.read_csv('ratings.csv')"
   ]
  },
  {
   "cell_type": "code",
   "execution_count": 3,
   "id": "7ed9cab3-f97b-4c61-b807-8e1d448c6f34",
   "metadata": {},
   "outputs": [
    {
     "name": "stdout",
     "output_type": "stream",
     "text": [
      "Movies DataFrame:\n",
      "   movieId                               title  \\\n",
      "0        1                    Toy Story (1995)   \n",
      "1        2                      Jumanji (1995)   \n",
      "2        3             Grumpier Old Men (1995)   \n",
      "3        4            Waiting to Exhale (1995)   \n",
      "4        5  Father of the Bride Part II (1995)   \n",
      "5        6                         Heat (1995)   \n",
      "6        7                      Sabrina (1995)   \n",
      "7        8                 Tom and Huck (1995)   \n",
      "8        9                 Sudden Death (1995)   \n",
      "9       10                    GoldenEye (1995)   \n",
      "\n",
      "                                        genres  \n",
      "0  Adventure|Animation|Children|Comedy|Fantasy  \n",
      "1                   Adventure|Children|Fantasy  \n",
      "2                               Comedy|Romance  \n",
      "3                         Comedy|Drama|Romance  \n",
      "4                                       Comedy  \n",
      "5                        Action|Crime|Thriller  \n",
      "6                               Comedy|Romance  \n",
      "7                           Adventure|Children  \n",
      "8                                       Action  \n",
      "9                    Action|Adventure|Thriller  \n",
      "\n",
      "Ratings DataFrame:\n",
      "   userId  movieId  rating   timestamp\n",
      "0       1        2     3.5  1112486027\n",
      "1       1       29     3.5  1112484676\n",
      "2       1       32     3.5  1112484819\n",
      "3       1       47     3.5  1112484727\n",
      "4       1       50     3.5  1112484580\n",
      "5       1      112     3.5  1094785740\n",
      "6       1      151     4.0  1094785734\n",
      "7       1      223     4.0  1112485573\n",
      "8       1      253     4.0  1112484940\n",
      "9       1      260     4.0  1112484826\n"
     ]
    }
   ],
   "source": [
    "print(\"Movies DataFrame:\")\n",
    "print(movies.head(10))\n",
    "print(\"\\nRatings DataFrame:\")\n",
    "print(ratings.head(10))"
   ]
  },
  {
   "cell_type": "code",
   "execution_count": 4,
   "id": "a93e123c-b29f-47ff-86a5-b2145347749b",
   "metadata": {},
   "outputs": [
    {
     "name": "stdout",
     "output_type": "stream",
     "text": [
      "\n",
      "Movies DataFrame Columns: Index(['movieId', 'title', 'genres'], dtype='object')\n",
      "\n",
      "Ratings DataFrame Columns: Index(['userId', 'movieId', 'rating', 'timestamp'], dtype='object')\n"
     ]
    }
   ],
   "source": [
    "print(\"\\nMovies DataFrame Columns:\", movies.columns)\n",
    "print(\"\\nRatings DataFrame Columns:\", ratings.columns)"
   ]
  },
  {
   "cell_type": "code",
   "execution_count": 5,
   "id": "15d5803d-235e-438d-9746-e6b21e141898",
   "metadata": {},
   "outputs": [],
   "source": [
    "df = movies.merge(ratings, how='left', on='movieId')"
   ]
  },
  {
   "cell_type": "code",
   "execution_count": 6,
   "id": "ade92058-c827-4ef4-901b-58d59114974c",
   "metadata": {},
   "outputs": [
    {
     "name": "stdout",
     "output_type": "stream",
     "text": [
      "\n",
      "Merged DataFrame:\n",
      "   movieId             title                                       genres  \\\n",
      "0        1  Toy Story (1995)  Adventure|Animation|Children|Comedy|Fantasy   \n",
      "1        1  Toy Story (1995)  Adventure|Animation|Children|Comedy|Fantasy   \n",
      "2        1  Toy Story (1995)  Adventure|Animation|Children|Comedy|Fantasy   \n",
      "3        1  Toy Story (1995)  Adventure|Animation|Children|Comedy|Fantasy   \n",
      "4        1  Toy Story (1995)  Adventure|Animation|Children|Comedy|Fantasy   \n",
      "\n",
      "   userId  rating     timestamp  \n",
      "0     3.0     4.0  9.449194e+08  \n",
      "1     6.0     5.0  8.582755e+08  \n",
      "2     8.0     4.0  8.339819e+08  \n",
      "3    10.0     4.0  9.434979e+08  \n",
      "4    11.0     4.5  1.230859e+09  \n"
     ]
    }
   ],
   "source": [
    "print(\"\\nMerged DataFrame:\")\n",
    "print(df.head(5))"
   ]
  },
  {
   "cell_type": "code",
   "execution_count": 7,
   "id": "30ec6325-2ee2-419c-b053-11668c78b2d0",
   "metadata": {},
   "outputs": [
    {
     "name": "stdout",
     "output_type": "stream",
     "text": [
      "\n",
      "Shape of Merged DataFrame:\n",
      "(20000797, 6)\n",
      "\n",
      "Info of Merged DataFrame:\n",
      "<class 'pandas.core.frame.DataFrame'>\n",
      "RangeIndex: 20000797 entries, 0 to 20000796\n",
      "Data columns (total 6 columns):\n",
      " #   Column     Dtype  \n",
      "---  ------     -----  \n",
      " 0   movieId    int64  \n",
      " 1   title      object \n",
      " 2   genres     object \n",
      " 3   userId     float64\n",
      " 4   rating     float64\n",
      " 5   timestamp  float64\n",
      "dtypes: float64(3), int64(1), object(2)\n",
      "memory usage: 915.6+ MB\n",
      "None\n",
      "\n",
      "First 5 rows of Merged DataFrame:\n",
      "   movieId             title                                       genres  \\\n",
      "0        1  Toy Story (1995)  Adventure|Animation|Children|Comedy|Fantasy   \n",
      "1        1  Toy Story (1995)  Adventure|Animation|Children|Comedy|Fantasy   \n",
      "2        1  Toy Story (1995)  Adventure|Animation|Children|Comedy|Fantasy   \n",
      "3        1  Toy Story (1995)  Adventure|Animation|Children|Comedy|Fantasy   \n",
      "4        1  Toy Story (1995)  Adventure|Animation|Children|Comedy|Fantasy   \n",
      "\n",
      "   userId  rating     timestamp  \n",
      "0     3.0     4.0  9.449194e+08  \n",
      "1     6.0     5.0  8.582755e+08  \n",
      "2     8.0     4.0  8.339819e+08  \n",
      "3    10.0     4.0  9.434979e+08  \n",
      "4    11.0     4.5  1.230859e+09  \n"
     ]
    }
   ],
   "source": [
    "print(\"\\nShape of Merged DataFrame:\")\n",
    "print(df.shape)\n",
    "print(\"\\nInfo of Merged DataFrame:\")\n",
    "print(df.info())\n",
    "print(\"\\nFirst 5 rows of Merged DataFrame:\")\n",
    "print(df.head(5))"
   ]
  },
  {
   "cell_type": "code",
   "execution_count": 8,
   "id": "281a02bd-b1f7-4ea1-9083-0d31e9338174",
   "metadata": {},
   "outputs": [
    {
     "name": "stdout",
     "output_type": "stream",
     "text": [
      "\n",
      "Merged DataFrame Columns: Index(['movieId', 'title', 'genres', 'userId', 'rating', 'timestamp'], dtype='object')\n"
     ]
    }
   ],
   "source": [
    "print(\"\\nMerged DataFrame Columns:\", df.columns)"
   ]
  },
  {
   "cell_type": "code",
   "execution_count": 9,
   "id": "05338ca2-9b50-4673-98b4-1fd37b616d6e",
   "metadata": {},
   "outputs": [
    {
     "data": {
      "text/plain": [
       "True"
      ]
     },
     "execution_count": 9,
     "metadata": {},
     "output_type": "execute_result"
    }
   ],
   "source": [
    "df.isnull().values.any()"
   ]
  },
  {
   "cell_type": "code",
   "execution_count": 10,
   "id": "2beefdfc-e845-44f6-9ac2-5ac6e081b877",
   "metadata": {},
   "outputs": [
    {
     "data": {
      "text/plain": [
       "movieId        0\n",
       "title          0\n",
       "genres         0\n",
       "userId       534\n",
       "rating       534\n",
       "timestamp    534\n",
       "dtype: int64"
      ]
     },
     "execution_count": 10,
     "metadata": {},
     "output_type": "execute_result"
    }
   ],
   "source": [
    "df.isnull().sum()"
   ]
  },
  {
   "cell_type": "code",
   "execution_count": 11,
   "id": "6f0f88d2-5342-4cd1-9b1e-56e92bc54487",
   "metadata": {},
   "outputs": [],
   "source": [
    "df.dropna(inplace=True)"
   ]
  },
  {
   "cell_type": "code",
   "execution_count": 12,
   "id": "8b208623-fb79-45bf-a626-28cf5f9e227f",
   "metadata": {},
   "outputs": [
    {
     "name": "stdout",
     "output_type": "stream",
     "text": [
      "\n",
      "Columns after dropping missing values: Index(['movieId', 'title', 'genres', 'userId', 'rating', 'timestamp'], dtype='object')\n"
     ]
    }
   ],
   "source": [
    "print(\"\\nColumns after dropping missing values:\", df.columns)"
   ]
  },
  {
   "cell_type": "code",
   "execution_count": 13,
   "id": "fc0c3b92-e622-4cd1-8b31-e331989d643c",
   "metadata": {},
   "outputs": [
    {
     "name": "stdout",
     "output_type": "stream",
     "text": [
      "\n",
      "Rating Counts DataFrame:\n",
      "                              title  count\n",
      "0               Pulp Fiction (1994)  67310\n",
      "1               Forrest Gump (1994)  66172\n",
      "2  Shawshank Redemption, The (1994)  63366\n",
      "3  Silence of the Lambs, The (1991)  63299\n",
      "4              Jurassic Park (1993)  59715\n"
     ]
    }
   ],
   "source": [
    "rating_counts = pd.DataFrame(df['title'].value_counts())\n",
    "rating_counts.reset_index(inplace=True)\n",
    "rating_counts.columns = ['title', 'count']\n",
    "print(\"\\nRating Counts DataFrame:\")\n",
    "print(rating_counts.head())"
   ]
  },
  {
   "cell_type": "code",
   "execution_count": 14,
   "id": "d071acfb-0746-4c16-b37b-efb80f67f80b",
   "metadata": {},
   "outputs": [
    {
     "name": "stdout",
     "output_type": "stream",
     "text": [
      "\n",
      "Rare Movies:\n",
      "10472                          Claire of the Moon (1992)\n",
      "10473                         Long Gray Line, The (1955)\n",
      "10474                                  100 Rifles (1969)\n",
      "10475               Sherlock Holmes in Washington (1943)\n",
      "10476                   Thing About My Folks, The (2005)\n",
      "                              ...                       \n",
      "26724                                 Easy Wheels (1989)\n",
      "26725                                   Ditirambo (1969)\n",
      "26726    Scorching Winds (Garm Hava) (Garam Hawa) (1974)\n",
      "26727                                 Serrallonga (2008)\n",
      "26728                                   Innocence (2014)\n",
      "Name: title, Length: 16257, dtype: object\n"
     ]
    }
   ],
   "source": [
    "rare_movies = rating_counts[rating_counts['count'] <= 50]['title']\n",
    "print(\"\\nRare Movies:\")\n",
    "print(rare_movies)"
   ]
  },
  {
   "cell_type": "code",
   "execution_count": 15,
   "id": "26583cc2-2719-4d04-9c42-2e7dfd42ba29",
   "metadata": {},
   "outputs": [
    {
     "name": "stdout",
     "output_type": "stream",
     "text": [
      "\n",
      "Columns in common_movies DataFrame: Index(['movieId', 'title', 'genres', 'userId', 'rating', 'timestamp'], dtype='object')\n"
     ]
    }
   ],
   "source": [
    "common_movies = df[~df['title'].isin(rare_movies)]\n",
    "print(\"\\nColumns in common_movies DataFrame:\", common_movies.columns)"
   ]
  },
  {
   "cell_type": "code",
   "execution_count": 16,
   "id": "acd7b037-8d4f-4702-b0ff-1f6bd25575d4",
   "metadata": {},
   "outputs": [
    {
     "name": "stdout",
     "output_type": "stream",
     "text": [
      "\n",
      "User-Movie DataFrame:\n",
      "title   \"Great Performances\" Cats (1998)  $9.99 (2008)  \\\n",
      "userId                                                   \n",
      "1.0                                  NaN           NaN   \n",
      "2.0                                  NaN           NaN   \n",
      "3.0                                  NaN           NaN   \n",
      "4.0                                  NaN           NaN   \n",
      "5.0                                  NaN           NaN   \n",
      "\n",
      "title   'Hellboy': The Seeds of Creation (2004)  'Round Midnight (1986)  \\\n",
      "userId                                                                    \n",
      "1.0                                         NaN                     NaN   \n",
      "2.0                                         NaN                     NaN   \n",
      "3.0                                         NaN                     NaN   \n",
      "4.0                                         NaN                     NaN   \n",
      "5.0                                         NaN                     NaN   \n",
      "\n",
      "title   'Salem's Lot (2004)  'Til There Was You (1997)  'burbs, The (1989)  \\\n",
      "userId                                                                       \n",
      "1.0                     NaN                        NaN                 NaN   \n",
      "2.0                     NaN                        NaN                 NaN   \n",
      "3.0                     NaN                        NaN                 NaN   \n",
      "4.0                     NaN                        NaN                 NaN   \n",
      "5.0                     NaN                        NaN                 NaN   \n",
      "\n",
      "title   'night Mother (1986)  (500) Days of Summer (2009)  \\\n",
      "userId                                                      \n",
      "1.0                      NaN                          NaN   \n",
      "2.0                      NaN                          NaN   \n",
      "3.0                      NaN                          NaN   \n",
      "4.0                      NaN                          NaN   \n",
      "5.0                      NaN                          NaN   \n",
      "\n",
      "title   *batteries not included (1987)  ...  Zorro, the Gay Blade (1981)  \\\n",
      "userId                                  ...                                \n",
      "1.0                                NaN  ...                          NaN   \n",
      "2.0                                NaN  ...                          NaN   \n",
      "3.0                                NaN  ...                          NaN   \n",
      "4.0                                NaN  ...                          NaN   \n",
      "5.0                                NaN  ...                          NaN   \n",
      "\n",
      "title   Zulu (1964)  [REC] (2007)  [REC]² (2009)  eXistenZ (1999)  \\\n",
      "userId                                                              \n",
      "1.0             NaN           NaN            NaN              NaN   \n",
      "2.0             NaN           NaN            NaN              NaN   \n",
      "3.0             NaN           NaN            NaN              NaN   \n",
      "4.0             NaN           NaN            NaN              NaN   \n",
      "5.0             NaN           NaN            NaN              NaN   \n",
      "\n",
      "title   loudQUIETloud: A Film About the Pixies (2006)  xXx (2002)  \\\n",
      "userId                                                              \n",
      "1.0                                               NaN         NaN   \n",
      "2.0                                               NaN         NaN   \n",
      "3.0                                               NaN         NaN   \n",
      "4.0                                               NaN         NaN   \n",
      "5.0                                               NaN         NaN   \n",
      "\n",
      "title   xXx: State of the Union (2005)  ¡Three Amigos! (1986)  \\\n",
      "userId                                                          \n",
      "1.0                                NaN                    NaN   \n",
      "2.0                                NaN                    NaN   \n",
      "3.0                                NaN                    NaN   \n",
      "4.0                                NaN                    NaN   \n",
      "5.0                                NaN                    NaN   \n",
      "\n",
      "title   À nous la liberté (Freedom for Us) (1931)  \n",
      "userId                                             \n",
      "1.0                                           NaN  \n",
      "2.0                                           NaN  \n",
      "3.0                                           NaN  \n",
      "4.0                                           NaN  \n",
      "5.0                                           NaN  \n",
      "\n",
      "[5 rows x 10472 columns]\n"
     ]
    }
   ],
   "source": [
    "user_movie_df = common_movies.pivot_table('rating', 'userId', 'title')\n",
    "print(\"\\nUser-Movie DataFrame:\")\n",
    "print(user_movie_df.head())"
   ]
  },
  {
   "cell_type": "code",
   "execution_count": 17,
   "id": "834a5418-ab60-4e53-9d1c-b05acee6824c",
   "metadata": {},
   "outputs": [],
   "source": [
    "random_user = int(pd.Series(user_movie_df.index).sample(1, random_state=20).values[0])"
   ]
  },
  {
   "cell_type": "code",
   "execution_count": 18,
   "id": "cbc871f0-5936-44b0-898f-875b3ddca6ca",
   "metadata": {},
   "outputs": [
    {
     "name": "stdout",
     "output_type": "stream",
     "text": [
      "\n",
      "Number of movies watched by the random user: 29\n"
     ]
    }
   ],
   "source": [
    "random_user_df = user_movie_df[user_movie_df.index == random_user]\n",
    "movies_watched = random_user_df.columns[random_user_df.notna().any()].tolist()\n",
    "print(\"\\nNumber of movies watched by the random user:\", len(movies_watched))"
   ]
  },
  {
   "cell_type": "code",
   "execution_count": 19,
   "id": "c8a1ac42-3d72-482f-9768-94b62e78fc26",
   "metadata": {},
   "outputs": [],
   "source": [
    "movies_watched_df = user_movie_df[movies_watched]"
   ]
  },
  {
   "cell_type": "code",
   "execution_count": 20,
   "id": "6a2c16ea-5f55-477d-89c0-ad99ab3dcc1f",
   "metadata": {},
   "outputs": [
    {
     "name": "stdout",
     "output_type": "stream",
     "text": [
      "\n",
      "User-Movie Count DataFrame:\n",
      "   userId  movie_count\n",
      "0     1.0            1\n",
      "1     2.0            2\n",
      "2     3.0            5\n",
      "3     4.0           13\n",
      "4     5.0           10\n"
     ]
    }
   ],
   "source": [
    "user_movie_count = movies_watched_df.T.notnull().sum()\n",
    "user_movie_count = user_movie_count.reset_index()\n",
    "user_movie_count.columns = ['userId', 'movie_count']\n",
    "print(\"\\nUser-Movie Count DataFrame:\")\n",
    "print(user_movie_count.head())"
   ]
  },
  {
   "cell_type": "code",
   "execution_count": 21,
   "id": "956113be-ddd8-4ef6-add4-a4f16cbda4be",
   "metadata": {},
   "outputs": [],
   "source": [
    "users_same_movies = user_movie_count[user_movie_count['movie_count'] > 20]['userId']"
   ]
  },
  {
   "cell_type": "code",
   "execution_count": 22,
   "id": "061a0602-0019-4c47-b587-99a0a0dbb2b4",
   "metadata": {},
   "outputs": [
    {
     "name": "stdout",
     "output_type": "stream",
     "text": [
      "\n",
      "Final DataFrame:\n",
      "title   Bad Girls (1994)  Batman (1989)  Batman Forever (1995)  \\\n",
      "userId                                                           \n",
      "54.0                 NaN            5.0                    4.0   \n",
      "58.0                 NaN            NaN                    NaN   \n",
      "69.0                 NaN            4.0                    3.0   \n",
      "91.0                 2.0            4.0                    3.0   \n",
      "101.0                NaN            3.0                    3.0   \n",
      "\n",
      "title   Clean Slate (1994)  Clear and Present Danger (1994)  \\\n",
      "userId                                                        \n",
      "54.0                   NaN                              4.0   \n",
      "58.0                   NaN                              5.0   \n",
      "69.0                   NaN                              3.0   \n",
      "91.0                   NaN                              3.0   \n",
      "101.0                  NaN                              4.0   \n",
      "\n",
      "title   Client, The (1994)  Cliffhanger (1993)  Dances with Wolves (1990)  \\\n",
      "userId                                                                      \n",
      "54.0                   3.0                 NaN                        5.0   \n",
      "58.0                   4.0                 3.0                        4.5   \n",
      "69.0                   NaN                 NaN                        3.0   \n",
      "91.0                   2.5                 3.0                        4.5   \n",
      "101.0                  3.0                 3.0                        3.0   \n",
      "\n",
      "title   Dave (1993)  Die Hard: With a Vengeance (1995)  ...  \\\n",
      "userId                                                  ...   \n",
      "54.0            4.0                                5.0  ...   \n",
      "58.0            5.0                                5.0  ...   \n",
      "69.0            3.0                                4.0  ...   \n",
      "91.0            4.0                                3.5  ...   \n",
      "101.0           4.0                                3.0  ...   \n",
      "\n",
      "title   Robin Hood: Men in Tights (1993)  Secret Garden, The (1993)  \\\n",
      "userId                                                                \n",
      "54.0                                 NaN                        NaN   \n",
      "58.0                                 NaN                        4.0   \n",
      "69.0                                 3.0                        NaN   \n",
      "91.0                                 3.0                        NaN   \n",
      "101.0                                3.0                        NaN   \n",
      "\n",
      "title   Sleepless in Seattle (1993)  Sliver (1993)  Speed (1994)  \\\n",
      "userId                                                             \n",
      "54.0                            4.0            3.0           4.0   \n",
      "58.0                            5.0            2.0           5.0   \n",
      "69.0                            3.0            3.0           2.0   \n",
      "91.0                            3.5            NaN           2.5   \n",
      "101.0                           4.0            4.0           3.0   \n",
      "\n",
      "title   Star Trek: Generations (1994)  Taxi Driver (1976)  \\\n",
      "userId                                                      \n",
      "54.0                              4.0                 3.0   \n",
      "58.0                              NaN                 5.0   \n",
      "69.0                              NaN                 4.0   \n",
      "91.0                              3.5                 NaN   \n",
      "101.0                             NaN                 NaN   \n",
      "\n",
      "title   Terminator 2: Judgment Day (1991)  True Lies (1994)  Waterworld (1995)  \n",
      "userId                                                                          \n",
      "54.0                                  5.0               4.0                NaN  \n",
      "58.0                                  5.0               4.0                1.0  \n",
      "69.0                                  5.0               4.0                1.0  \n",
      "91.0                                  2.5               3.0                1.5  \n",
      "101.0                                 4.0               4.0                3.0  \n",
      "\n",
      "[5 rows x 29 columns]\n"
     ]
    },
    {
     "data": {
      "text/plain": [
       "3937"
      ]
     },
     "execution_count": 22,
     "metadata": {},
     "output_type": "execute_result"
    }
   ],
   "source": [
    "final_df = pd.concat([movies_watched_df[movies_watched_df.index.isin(users_same_movies)],\n",
    "                      random_user_df[movies_watched]])\n",
    "print(\"\\nFinal DataFrame:\")\n",
    "print(final_df.head())\n",
    "len(final_df)"
   ]
  },
  {
   "cell_type": "code",
   "execution_count": 23,
   "id": "05417f8d-3dc8-4ad9-8ca0-bd05a9c132fb",
   "metadata": {},
   "outputs": [],
   "source": [
    "final_df = final_df.drop_duplicates()"
   ]
  },
  {
   "cell_type": "code",
   "execution_count": 24,
   "id": "b9261a48-e26e-48de-a1a4-e3e5aaae1a58",
   "metadata": {},
   "outputs": [
    {
     "name": "stdout",
     "output_type": "stream",
     "text": [
      "\n",
      "Correlation DataFrame:\n",
      "userId    userId  \n",
      "77104.0   43765.0    -1.000000\n",
      "119677.0  126905.0   -0.855905\n",
      "44405.0   119677.0   -0.850871\n",
      "88649.0   50442.0    -0.850170\n",
      "75962.0   133956.0   -0.846888\n",
      "dtype: float64\n"
     ]
    }
   ],
   "source": [
    "corr_df = final_df.T.corr().unstack().sort_values().drop_duplicates()\n",
    "print(\"\\nCorrelation DataFrame:\")\n",
    "print(corr_df.head())"
   ]
  },
  {
   "cell_type": "code",
   "execution_count": 25,
   "id": "fa78ce73-2fed-4fe9-96de-15e5ac859e27",
   "metadata": {},
   "outputs": [],
   "source": [
    "corr_df = pd.DataFrame(corr_df, columns=[\"correlation\"])\n",
    "corr_df.index.names = ['userId1', 'userId2']\n",
    "corr_df = corr_df.reset_index()"
   ]
  },
  {
   "cell_type": "code",
   "execution_count": 26,
   "id": "d2fbf976-7630-41bf-b31e-7ce7e8cf2208",
   "metadata": {},
   "outputs": [],
   "source": [
    "sorted_corr_df = corr_df[(corr_df['userId1'] == random_user) & (corr_df['userId2'] != random_user)].sort_values(by='correlation', ascending=False)"
   ]
  },
  {
   "cell_type": "code",
   "execution_count": 27,
   "id": "a2d0b684-aa2b-4f3a-8211-64c60b671fd5",
   "metadata": {},
   "outputs": [
    {
     "name": "stdout",
     "output_type": "stream",
     "text": [
      "\n",
      "Top 50 Similar Users:\n",
      "         userId1   userId2  correlation\n",
      "5077373  44315.0   33754.0     0.831782\n",
      "5038774  44315.0   94806.0     0.738144\n",
      "5024510  44315.0  117141.0     0.723210\n",
      "5018126  44315.0   90733.0     0.717416\n",
      "5017942  44315.0    1681.0     0.717274\n",
      "5011143  44315.0   51411.0     0.711555\n",
      "5006235  44315.0   62189.0     0.707686\n",
      "4980889  44315.0   59365.0     0.690101\n",
      "4973646  44315.0   48602.0     0.685542\n",
      "4972661  44315.0  113017.0     0.684967\n",
      "4960636  44315.0  111222.0     0.677956\n",
      "4942093  44315.0   15733.0     0.667948\n",
      "4934881  44315.0   19516.0     0.664384\n",
      "4934559  44315.0  122224.0     0.664231\n",
      "4926470  44315.0   28792.0     0.660201\n",
      "4916553  44315.0   86839.0     0.655492\n",
      "4903618  44315.0   44882.0     0.649764\n",
      "4895424  44315.0   26914.0     0.646219\n",
      "4868601  44315.0   32344.0     0.635265\n",
      "4865917  44315.0   91709.0     0.634241\n",
      "4863410  44315.0    2430.0     0.633259\n",
      "4859436  44315.0   84898.0     0.631737\n",
      "4857849  44315.0   16220.0     0.631135\n",
      "4836076  44315.0  137789.0     0.623016\n",
      "4835446  44315.0  137885.0     0.622782\n",
      "4831606  44315.0   33189.0     0.621418\n",
      "4807703  44315.0   97281.0     0.613109\n",
      "4790396  44315.0   59873.0     0.607284\n",
      "4783541  44315.0   84866.0     0.605007\n",
      "4780683  44315.0  134535.0     0.604113\n",
      "4773899  44315.0   38102.0     0.601904\n",
      "4762450  44315.0   91504.0     0.598352\n",
      "4754528  44315.0   49539.0     0.595868\n",
      "4752102  44315.0   71257.0     0.595131\n",
      "4748906  44315.0  107572.0     0.594165\n",
      "4730837  44315.0   24830.0     0.588811\n",
      "4729057  44315.0  124721.0     0.588302\n",
      "4725393  44315.0   85401.0     0.587211\n",
      "4721775  44315.0  114570.0     0.586160\n",
      "4711594  44315.0  122610.0     0.583248\n",
      "4694818  44315.0   32555.0     0.578549\n",
      "4686071  44315.0  120624.0     0.576057\n",
      "4684709  44315.0   35356.0     0.575682\n",
      "4670369  44315.0  109895.0     0.571742\n",
      "4655687  44315.0   27825.0     0.567856\n",
      "4647763  44315.0   25101.0     0.565748\n",
      "4638541  44315.0   79292.0     0.563349\n",
      "4634746  44315.0   69912.0     0.562367\n",
      "4631884  44315.0   38148.0     0.561660\n",
      "4627039  44315.0    4914.0     0.560412\n"
     ]
    }
   ],
   "source": [
    "top_50_users = sorted_corr_df.head(50)\n",
    "print(\"\\nTop 50 Similar Users:\")\n",
    "print(top_50_users)"
   ]
  },
  {
   "cell_type": "code",
   "execution_count": 28,
   "id": "25a8a61a-ae6a-483c-ae12-655e2b9deb52",
   "metadata": {},
   "outputs": [
    {
     "name": "stdout",
     "output_type": "stream",
     "text": [
      "\n",
      "Recommended Movies:\n",
      "      movieId  rating                                              title  \\\n",
      "5521    50872     5.0                                 Ratatouille (2007)   \n",
      "5734    61236     5.0          Waltz with Bashir (Vals im Bashir) (2008)   \n",
      "5886    74685     5.0                                Crazies, The (2010)   \n",
      "4148     6400     5.0  Murder on a Sunday Morning (Un coupable idéal)...   \n",
      "5787    66279     5.0                                    Husbands (1970)   \n",
      "4762     8154     5.0                              Dolce Vita, La (1960)   \n",
      "5782    65514     5.0                                      Ip Man (2008)   \n",
      "4794     8364     5.0  Baadasssss! (How to Get the Man's Foot Outta Y...   \n",
      "990      1337     5.0                          Body Snatcher, The (1945)   \n",
      "5749    62799     5.0                                Express, The (2008)   \n",
      "\n",
      "                                   genres  \n",
      "5521             Animation|Children|Drama  \n",
      "5734      Animation|Documentary|Drama|War  \n",
      "5886  Action|Drama|Horror|Sci-Fi|Thriller  \n",
      "4148                          Documentary  \n",
      "5787                                Drama  \n",
      "4762                                Drama  \n",
      "5782                     Action|Drama|War  \n",
      "4794                                Drama  \n",
      "990                 Drama|Horror|Thriller  \n",
      "5749                                Drama  \n"
     ]
    }
   ],
   "source": [
    "top_50_ratings = top_50_users.merge(ratings, left_on='userId2', right_on='userId')\n",
    "\n",
    "movie_recommendation = top_50_ratings.groupby('movieId').agg({'rating': 'mean'}).reset_index()\n",
    "\n",
    "movie_recommendation = movie_recommendation.merge(movies, on='movieId')\n",
    "\n",
    "recommended_movies = movie_recommendation.sort_values(by='rating', ascending=False)\n",
    "\n",
    "print(\"\\nRecommended Movies:\")\n",
    "print(recommended_movies.head(10))\n"
   ]
  },
  {
   "cell_type": "code",
   "execution_count": null,
   "id": "dabb4569-c146-48e2-9256-9d305a9941f1",
   "metadata": {},
   "outputs": [],
   "source": []
  }
 ],
 "metadata": {
  "kernelspec": {
   "display_name": "Python 3 (ipykernel)",
   "language": "python",
   "name": "python3"
  },
  "language_info": {
   "codemirror_mode": {
    "name": "ipython",
    "version": 3
   },
   "file_extension": ".py",
   "mimetype": "text/x-python",
   "name": "python",
   "nbconvert_exporter": "python",
   "pygments_lexer": "ipython3",
   "version": "3.9.11"
  }
 },
 "nbformat": 4,
 "nbformat_minor": 5
}
